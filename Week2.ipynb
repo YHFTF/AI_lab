{
  "nbformat": 4,
  "nbformat_minor": 0,
  "metadata": {
    "colab": {
      "provenance": [],
      "gpuType": "T4",
      "authorship_tag": "ABX9TyNjG+96/SmuZoABa1D49Egh",
      "include_colab_link": true
    },
    "kernelspec": {
      "name": "python3",
      "display_name": "Python 3"
    },
    "language_info": {
      "name": "python"
    },
    "accelerator": "GPU"
  },
  "cells": [
    {
      "cell_type": "markdown",
      "metadata": {
        "id": "view-in-github",
        "colab_type": "text"
      },
      "source": [
        "<a href=\"https://colab.research.google.com/github/YHFTF/AI_lab/blob/main/Week2.ipynb\" target=\"_parent\"><img src=\"https://colab.research.google.com/assets/colab-badge.svg\" alt=\"Open In Colab\"/></a>"
      ]
    },
    {
      "cell_type": "code",
      "execution_count": null,
      "metadata": {
        "colab": {
          "base_uri": "https://localhost:8080/"
        },
        "id": "1OhZnwizbXBe",
        "outputId": "d53a2874-e7a4-4037-d4e5-9357ce788d28"
      },
      "outputs": [
        {
          "output_type": "stream",
          "name": "stdout",
          "text": [
            "✓ PyTorch is successfully imported!\n",
            "PyTorch version: 2.8.0+cu126\n",
            "✓ CUDA is available! Device count: 1\n",
            "Current CUDA device: Tesla T4\n",
            "✓ Test tensor created on GPU: tensor([1, 2, 3, 4, 5], device='cuda:0')\n",
            "Tensor shape: torch.Size([5])\n",
            "Tensor device: cuda:0\n",
            "✓ GPU operation test (squaring): tensor([ 1,  4,  9, 16, 25], device='cuda:0')\n",
            "\n",
            "🎉 PyTorch is working correctly!\n"
          ]
        }
      ],
      "source": [
        "# Check if PyTorch is available and import it\n",
        "try:\n",
        "    import torch\n",
        "    print(\"✓ PyTorch is successfully imported!\")\n",
        "    print(f\"PyTorch version: {torch.__version__}\")\n",
        "\n",
        "    # Check if CUDA is available\n",
        "    if torch.cuda.is_available():\n",
        "        print(f\"✓ CUDA is available! Device count: {torch.cuda.device_count()}\")\n",
        "        print(f\"Current CUDA device: {torch.cuda.get_device_name(0)}\")\n",
        "\n",
        "        # GPU 장치 객체\n",
        "        device = torch.device(\"cuda\")\n",
        "\n",
        "        # Tensor를 GPU로 이동\n",
        "        test_tensor = torch.tensor([1, 2, 3, 4, 5], device=device)\n",
        "        print(f\"✓ Test tensor created on GPU: {test_tensor}\")\n",
        "        print(f\"Tensor shape: {test_tensor.shape}\")\n",
        "        print(f\"Tensor device: {test_tensor.device}\")\n",
        "\n",
        "        # GPU에서 연산\n",
        "        squared_tensor = test_tensor ** 2\n",
        "        print(f\"✓ GPU operation test (squaring): {squared_tensor}\")\n",
        "\n",
        "    else:\n",
        "        print(\"CUDA is not available. Using CPU.\")\n",
        "\n",
        "        # CPU 텐서 생성\n",
        "        test_tensor = torch.tensor([1, 2, 3, 4, 5])\n",
        "        print(f\"✓ Test tensor created on CPU: {test_tensor}\")\n",
        "        print(f\"Tensor shape: {test_tensor.shape}\")\n",
        "        print(f\"Tensor device: {test_tensor.device}\")\n",
        "\n",
        "        # CPU 연산\n",
        "        squared_tensor = test_tensor ** 2\n",
        "        print(f\"✓ CPU operation test (squaring): {squared_tensor}\")\n",
        "\n",
        "    print(\"\\n🎉 PyTorch is working correctly!\")\n",
        "\n",
        "except ImportError as e:\n",
        "    print(\"❌ PyTorch is not installed or not available\")\n",
        "    print(f\"Error details: {e}\")\n",
        "    print(\"Please install PyTorch using: pip install torch\")\n",
        "\n",
        "except Exception as e:\n",
        "    print(f\"❌ An error occurred while testing PyTorch: {e}\")\n"
      ]
    },
    {
      "cell_type": "code",
      "source": [
        "torch.cuda.is_available()"
      ],
      "metadata": {
        "colab": {
          "base_uri": "https://localhost:8080/"
        },
        "id": "dDV2y66pdoYW",
        "outputId": "ad99fe39-2183-46aa-941a-02684f7e9983"
      },
      "execution_count": null,
      "outputs": [
        {
          "output_type": "execute_result",
          "data": {
            "text/plain": [
              "True"
            ]
          },
          "metadata": {},
          "execution_count": 2
        }
      ]
    },
    {
      "cell_type": "code",
      "source": [
        "device = torch.device(\"cuda\" if torch.cuda.is_available() else \"cpu\")"
      ],
      "metadata": {
        "id": "WIt9okntd0RR"
      },
      "execution_count": null,
      "outputs": []
    },
    {
      "cell_type": "code",
      "source": [
        "print(device)"
      ],
      "metadata": {
        "colab": {
          "base_uri": "https://localhost:8080/"
        },
        "id": "Aw72p0_teCs6",
        "outputId": "4163ab66-6740-4edb-eaad-cfe42183d0af"
      },
      "execution_count": null,
      "outputs": [
        {
          "output_type": "stream",
          "name": "stdout",
          "text": [
            "cuda\n"
          ]
        }
      ]
    }
  ]
}